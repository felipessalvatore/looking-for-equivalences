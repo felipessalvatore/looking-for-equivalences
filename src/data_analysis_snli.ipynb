{
 "cells": [
  {
   "cell_type": "code",
   "execution_count": 1,
   "id": "b04b66bc-28bb-4a4c-9f6b-b7db64e44d4b",
   "metadata": {},
   "outputs": [],
   "source": [
    "import pandas as pd\n",
    "import numpy as np\n",
    "from lr.text_processing.util import simple_pre_process_text_df\n",
    "from multiprocessing import Pool\n",
    "from functools import reduce\n",
    "from collections import Counter"
   ]
  },
  {
   "cell_type": "code",
   "execution_count": 2,
   "id": "be96f783-e4b6-4078-b298-cdfc498a6e08",
   "metadata": {},
   "outputs": [],
   "source": [
    "syn_noum = pd.read_csv(\"data/snli/syn_noun.csv\")\n",
    "keys = syn_noum.key.to_list()\n",
    "values = syn_noum.value.to_list()\n",
    "\n",
    "def check_key(s):\n",
    "    return [w for w in s.split(\" \") if w in keys] \n",
    "\n",
    "def check_key_df(df):    \n",
    "    df.loc[:, \"w_trans\"] = df[\"text\"].map(check_key)\n",
    "    df.loc[:, \"n_trans\"] = df[\"w_trans\"].map(lambda x : len(x))\n",
    "    return df\n",
    "    \n",
    "def parallelize(df, func, n_cores):\n",
    "    \"\"\"\n",
    "    general fucntion to parallelize a function applied to\n",
    "    a df\n",
    "    \"\"\"\n",
    "    df_split = np.array_split(df, n_cores)\n",
    "    pool = Pool(n_cores)\n",
    "    df = pd.concat(pool.map(func, df_split))\n",
    "    pool.close()\n",
    "    pool.join()\n",
    "    return df"
   ]
  },
  {
   "cell_type": "code",
   "execution_count": 3,
   "id": "48b7f36d-1b33-4323-a349-798ef0d62422",
   "metadata": {},
   "outputs": [],
   "source": [
    "df = pd.read_csv(\"data/snli/train.csv\").dropna()\n",
    "simple_pre_process_text_df(df, \"premise\")\n",
    "simple_pre_process_text_df(df, \"hypothesis\")\n",
    "df.loc[:, \"text\"] = df.premise + \" \" + df.hypothesis\n",
    "df.loc[:, \"size\"] = df[\"text\"].map(lambda x: len(x.split(\" \")))\n",
    "df = parallelize(df, func=check_key_df, n_cores=20)\n",
    "\n",
    "df_neu  = df.query(\"label=='neutral'\")\n",
    "df_con  = df.query(\"label=='contradiction'\")\n",
    "df_ent  = df.query(\"label=='entailment'\")\n",
    "\n",
    "df_p = pd.read_csv(\"data/snli/train_p_h_syn_noun.csv\").dropna()\n",
    "df_p.loc[:, \"text\"] = df_p.premise + \" \" + df_p.hypothesis\n",
    "df_p.loc[:, \"size\"] = df_p[\"text\"].map(lambda x: len(x.split(\" \")))\n",
    "df_p = parallelize(df_p, func=check_key_df, n_cores=20)\n",
    "\n",
    "df_p_neu  = df_p.query(\"label=='neutral'\")\n",
    "df_p_con  = df_p.query(\"label=='contradiction'\")\n",
    "df_p_ent  = df_p.query(\"label=='entailment'\")"
   ]
  },
  {
   "cell_type": "markdown",
   "id": "e239076f-cbfa-4755-8855-309f72494321",
   "metadata": {},
   "source": [
    "## Sizes (Original)"
   ]
  },
  {
   "cell_type": "code",
   "execution_count": 4,
   "id": "3ad959ae-e5d1-447c-9314-2b2e0839ae06",
   "metadata": {},
   "outputs": [
    {
     "data": {
      "text/html": [
       "<div>\n",
       "<style scoped>\n",
       "    .dataframe tbody tr th:only-of-type {\n",
       "        vertical-align: middle;\n",
       "    }\n",
       "\n",
       "    .dataframe tbody tr th {\n",
       "        vertical-align: top;\n",
       "    }\n",
       "\n",
       "    .dataframe thead th {\n",
       "        text-align: right;\n",
       "    }\n",
       "</style>\n",
       "<table border=\"1\" class=\"dataframe\">\n",
       "  <thead>\n",
       "    <tr style=\"text-align: right;\">\n",
       "      <th></th>\n",
       "      <th>total</th>\n",
       "      <th>contradiction</th>\n",
       "      <th>neutral</th>\n",
       "      <th>entailment</th>\n",
       "    </tr>\n",
       "  </thead>\n",
       "  <tbody>\n",
       "    <tr>\n",
       "      <th>0</th>\n",
       "      <td>20.27</td>\n",
       "      <td>20.21</td>\n",
       "      <td>21.11</td>\n",
       "      <td>19.48</td>\n",
       "    </tr>\n",
       "  </tbody>\n",
       "</table>\n",
       "</div>"
      ],
      "text/plain": [
       "   total  contradiction  neutral  entailment\n",
       "0  20.27          20.21    21.11       19.48"
      ]
     },
     "execution_count": 4,
     "metadata": {},
     "output_type": "execute_result"
    }
   ],
   "source": [
    "avg_total = df[[\"size\"]].describe().loc[\"mean\"].values[0]\n",
    "avg_con = df_con[[\"size\"]].describe().loc[\"mean\"].values[0]\n",
    "avg_neu = df_neu[[\"size\"]].describe().loc[\"mean\"].values[0]\n",
    "avg_ent = df_ent[[\"size\"]].describe().loc[\"mean\"].values[0]\n",
    "results = [avg_total, avg_con, avg_neu, avg_ent]\n",
    "results = [np.round(i,2) for i in results]\n",
    "columns = [\"total\", \"contradiction\", \"neutral\", \"entailment\"]\n",
    "original = pd.DataFrame([results], columns=columns)\n",
    "original"
   ]
  },
  {
   "cell_type": "markdown",
   "id": "9f694840-cd15-4d54-9b60-1f3d17d720bd",
   "metadata": {},
   "source": [
    "## Sizes (Transformed)"
   ]
  },
  {
   "cell_type": "code",
   "execution_count": 5,
   "id": "3b4d7e85-2855-4e3d-a425-7ec572f6db1f",
   "metadata": {},
   "outputs": [
    {
     "data": {
      "text/html": [
       "<div>\n",
       "<style scoped>\n",
       "    .dataframe tbody tr th:only-of-type {\n",
       "        vertical-align: middle;\n",
       "    }\n",
       "\n",
       "    .dataframe tbody tr th {\n",
       "        vertical-align: top;\n",
       "    }\n",
       "\n",
       "    .dataframe thead th {\n",
       "        text-align: right;\n",
       "    }\n",
       "</style>\n",
       "<table border=\"1\" class=\"dataframe\">\n",
       "  <thead>\n",
       "    <tr style=\"text-align: right;\">\n",
       "      <th></th>\n",
       "      <th>total</th>\n",
       "      <th>contradiction</th>\n",
       "      <th>neutral</th>\n",
       "      <th>entailment</th>\n",
       "    </tr>\n",
       "  </thead>\n",
       "  <tbody>\n",
       "    <tr>\n",
       "      <th>0</th>\n",
       "      <td>23.61</td>\n",
       "      <td>23.59</td>\n",
       "      <td>24.49</td>\n",
       "      <td>22.77</td>\n",
       "    </tr>\n",
       "  </tbody>\n",
       "</table>\n",
       "</div>"
      ],
      "text/plain": [
       "   total  contradiction  neutral  entailment\n",
       "0  23.61          23.59    24.49       22.77"
      ]
     },
     "execution_count": 5,
     "metadata": {},
     "output_type": "execute_result"
    }
   ],
   "source": [
    "avg_total = df_p[[\"size\"]].describe().loc[\"mean\"].values[0]\n",
    "avg_con = df_p_con[[\"size\"]].describe().loc[\"mean\"].values[0]\n",
    "avg_neu = df_p_neu[[\"size\"]].describe().loc[\"mean\"].values[0]\n",
    "avg_ent = df_p_ent[[\"size\"]].describe().loc[\"mean\"].values[0]\n",
    "results = [avg_total, avg_con, avg_neu, avg_ent]\n",
    "results = [np.round(i,2) for i in results]\n",
    "columns = [\"total\", \"contradiction\", \"neutral\", \"entailment\"]\n",
    "transformed = pd.DataFrame([results], columns=columns)\n",
    "transformed"
   ]
  },
  {
   "cell_type": "code",
   "execution_count": 6,
   "id": "932b602b-9267-4af7-8a5b-b594b6b17ba3",
   "metadata": {},
   "outputs": [
    {
     "data": {
      "text/html": [
       "<div>\n",
       "<style scoped>\n",
       "    .dataframe tbody tr th:only-of-type {\n",
       "        vertical-align: middle;\n",
       "    }\n",
       "\n",
       "    .dataframe tbody tr th {\n",
       "        vertical-align: top;\n",
       "    }\n",
       "\n",
       "    .dataframe thead th {\n",
       "        text-align: right;\n",
       "    }\n",
       "</style>\n",
       "<table border=\"1\" class=\"dataframe\">\n",
       "  <thead>\n",
       "    <tr style=\"text-align: right;\">\n",
       "      <th></th>\n",
       "      <th>total</th>\n",
       "      <th>contradiction</th>\n",
       "      <th>neutral</th>\n",
       "      <th>entailment</th>\n",
       "    </tr>\n",
       "  </thead>\n",
       "  <tbody>\n",
       "    <tr>\n",
       "      <th>0</th>\n",
       "      <td>NaN</td>\n",
       "      <td>NaN</td>\n",
       "      <td>NaN</td>\n",
       "      <td>NaN</td>\n",
       "    </tr>\n",
       "    <tr>\n",
       "      <th>0</th>\n",
       "      <td>16.477553</td>\n",
       "      <td>16.724394</td>\n",
       "      <td>16.011369</td>\n",
       "      <td>16.889117</td>\n",
       "    </tr>\n",
       "  </tbody>\n",
       "</table>\n",
       "</div>"
      ],
      "text/plain": [
       "       total  contradiction    neutral  entailment\n",
       "0        NaN            NaN        NaN         NaN\n",
       "0  16.477553      16.724394  16.011369   16.889117"
      ]
     },
     "execution_count": 6,
     "metadata": {},
     "output_type": "execute_result"
    }
   ],
   "source": [
    "pd.concat([original, transformed]).pct_change()* 100"
   ]
  },
  {
   "cell_type": "code",
   "execution_count": 7,
   "id": "89e79b95-64bc-4e54-8abd-605caca98437",
   "metadata": {},
   "outputs": [
    {
     "data": {
      "text/html": [
       "<div>\n",
       "<style scoped>\n",
       "    .dataframe tbody tr th:only-of-type {\n",
       "        vertical-align: middle;\n",
       "    }\n",
       "\n",
       "    .dataframe tbody tr th {\n",
       "        vertical-align: top;\n",
       "    }\n",
       "\n",
       "    .dataframe thead th {\n",
       "        text-align: right;\n",
       "    }\n",
       "</style>\n",
       "<table border=\"1\" class=\"dataframe\">\n",
       "  <thead>\n",
       "    <tr style=\"text-align: right;\">\n",
       "      <th></th>\n",
       "      <th>premise</th>\n",
       "      <th>hypothesis</th>\n",
       "      <th>label</th>\n",
       "      <th>text</th>\n",
       "      <th>size</th>\n",
       "      <th>w_trans</th>\n",
       "      <th>n_trans</th>\n",
       "    </tr>\n",
       "  </thead>\n",
       "  <tbody>\n",
       "    <tr>\n",
       "      <th>0</th>\n",
       "      <td>a person on a horse jumps over a broken down a...</td>\n",
       "      <td>a person is training his horse for a competition</td>\n",
       "      <td>neutral</td>\n",
       "      <td>a person on a horse jumps over a broken down a...</td>\n",
       "      <td>20</td>\n",
       "      <td>[person, airplane, person]</td>\n",
       "      <td>3</td>\n",
       "    </tr>\n",
       "    <tr>\n",
       "      <th>1</th>\n",
       "      <td>a person on a horse jumps over a broken down a...</td>\n",
       "      <td>a person is at a diner ordering an omelette</td>\n",
       "      <td>contradiction</td>\n",
       "      <td>a person on a horse jumps over a broken down a...</td>\n",
       "      <td>20</td>\n",
       "      <td>[person, airplane, person, omelette]</td>\n",
       "      <td>4</td>\n",
       "    </tr>\n",
       "    <tr>\n",
       "      <th>2</th>\n",
       "      <td>a person on a horse jumps over a broken down a...</td>\n",
       "      <td>a person is outdoors on a horse</td>\n",
       "      <td>entailment</td>\n",
       "      <td>a person on a horse jumps over a broken down a...</td>\n",
       "      <td>18</td>\n",
       "      <td>[person, airplane, person, outdoors]</td>\n",
       "      <td>4</td>\n",
       "    </tr>\n",
       "  </tbody>\n",
       "</table>\n",
       "</div>"
      ],
      "text/plain": [
       "                                             premise  \\\n",
       "0  a person on a horse jumps over a broken down a...   \n",
       "1  a person on a horse jumps over a broken down a...   \n",
       "2  a person on a horse jumps over a broken down a...   \n",
       "\n",
       "                                         hypothesis          label  \\\n",
       "0  a person is training his horse for a competition        neutral   \n",
       "1       a person is at a diner ordering an omelette  contradiction   \n",
       "2                   a person is outdoors on a horse     entailment   \n",
       "\n",
       "                                                text  size  \\\n",
       "0  a person on a horse jumps over a broken down a...    20   \n",
       "1  a person on a horse jumps over a broken down a...    20   \n",
       "2  a person on a horse jumps over a broken down a...    18   \n",
       "\n",
       "                                w_trans  n_trans  \n",
       "0            [person, airplane, person]        3  \n",
       "1  [person, airplane, person, omelette]        4  \n",
       "2  [person, airplane, person, outdoors]        4  "
      ]
     },
     "execution_count": 7,
     "metadata": {},
     "output_type": "execute_result"
    }
   ],
   "source": [
    "df.head(3)"
   ]
  },
  {
   "cell_type": "markdown",
   "id": "c2e4ae34-4794-4987-b28c-6cea1adf2564",
   "metadata": {},
   "source": [
    "## Count transformations"
   ]
  },
  {
   "cell_type": "code",
   "execution_count": 8,
   "id": "eed0cbaf-7ad2-461d-a37c-d49294a4e490",
   "metadata": {},
   "outputs": [
    {
     "data": {
      "text/html": [
       "<div>\n",
       "<style scoped>\n",
       "    .dataframe tbody tr th:only-of-type {\n",
       "        vertical-align: middle;\n",
       "    }\n",
       "\n",
       "    .dataframe tbody tr th {\n",
       "        vertical-align: top;\n",
       "    }\n",
       "\n",
       "    .dataframe thead th {\n",
       "        text-align: right;\n",
       "    }\n",
       "</style>\n",
       "<table border=\"1\" class=\"dataframe\">\n",
       "  <thead>\n",
       "    <tr style=\"text-align: right;\">\n",
       "      <th></th>\n",
       "      <th>total</th>\n",
       "      <th>contradiction</th>\n",
       "      <th>neutral</th>\n",
       "      <th>entailment</th>\n",
       "    </tr>\n",
       "  </thead>\n",
       "  <tbody>\n",
       "    <tr>\n",
       "      <th>0</th>\n",
       "      <td>3.25</td>\n",
       "      <td>3.25</td>\n",
       "      <td>3.39</td>\n",
       "      <td>3.11</td>\n",
       "    </tr>\n",
       "  </tbody>\n",
       "</table>\n",
       "</div>"
      ],
      "text/plain": [
       "   total  contradiction  neutral  entailment\n",
       "0   3.25           3.25     3.39        3.11"
      ]
     },
     "execution_count": 8,
     "metadata": {},
     "output_type": "execute_result"
    }
   ],
   "source": [
    "avg_total = df[\"n_trans\"].mean()\n",
    "avg_con = df_con[\"n_trans\"].mean()\n",
    "avg_neu = df_neu[\"n_trans\"].mean()\n",
    "avg_ent = df_ent[\"n_trans\"].mean()\n",
    "results = [avg_total, avg_con, avg_neu, avg_ent]\n",
    "results = [np.round(i,2) for i in results]\n",
    "columns = [\"total\", \"contradiction\", \"neutral\", \"entailment\"]\n",
    "n_tranforms = pd.DataFrame([results], columns=columns)\n",
    "n_tranforms"
   ]
  },
  {
   "cell_type": "markdown",
   "id": "e68851fb-3fc6-4097-a0b2-d7d306b44099",
   "metadata": {},
   "source": [
    "## Check transformations"
   ]
  },
  {
   "cell_type": "code",
   "execution_count": 9,
   "id": "21be6893-d2ed-4855-b15e-022f5e170d1d",
   "metadata": {},
   "outputs": [
    {
     "data": {
      "text/plain": [
       "[('man', 264898),\n",
       " ('woman', 136681),\n",
       " ('boy', 58015),\n",
       " ('dog', 53772),\n",
       " ('person', 35833),\n",
       " ('child', 32229),\n",
       " ('children', 26210),\n",
       " ('bike', 15051),\n",
       " ('park', 13056),\n",
       " ('sidewalk', 12874)]"
      ]
     },
     "execution_count": 9,
     "metadata": {},
     "output_type": "execute_result"
    }
   ],
   "source": [
    "def lists2list(arr):\n",
    "    return reduce(lambda x,y: x+y, arr)\n",
    "\n",
    "def get_counter(arrays, n_cores):\n",
    "    splits = np.array_split(arrays, n_cores)\n",
    "    pool = Pool(n_cores)\n",
    "    final_list = lists2list(pool.map(lists2list, splits))\n",
    "    pool.close()\n",
    "    pool.join()\n",
    "    key_count = Counter(final_list)\n",
    "    return key_count\n",
    "\n",
    "count_total = get_counter(df[\"w_trans\"].values, n_cores=20)\n",
    "count_total.most_common(10)"
   ]
  },
  {
   "cell_type": "code",
   "execution_count": 10,
   "id": "5e367235-a7c2-45b1-8805-5ba272b59e7d",
   "metadata": {},
   "outputs": [
    {
     "data": {
      "text/plain": [
       "[('man', 89172),\n",
       " ('woman', 47644),\n",
       " ('boy', 19657),\n",
       " ('dog', 18301),\n",
       " ('child', 10148),\n",
       " ('person', 10078),\n",
       " ('children', 8546),\n",
       " ('park', 4789),\n",
       " ('bike', 4738),\n",
       " ('sidewalk', 4332)]"
      ]
     },
     "execution_count": 10,
     "metadata": {},
     "output_type": "execute_result"
    }
   ],
   "source": [
    "count_con = get_counter(df_con[\"w_trans\"].values, n_cores=20)\n",
    "count_con.most_common(10)"
   ]
  },
  {
   "cell_type": "code",
   "execution_count": 11,
   "id": "2361e620-946f-4eb5-a049-e0593afa381d",
   "metadata": {},
   "outputs": [
    {
     "data": {
      "text/plain": [
       "[('man', 87705),\n",
       " ('woman', 44446),\n",
       " ('boy', 19547),\n",
       " ('dog', 18061),\n",
       " ('child', 10586),\n",
       " ('person', 10215),\n",
       " ('children', 8713),\n",
       " ('bike', 5079),\n",
       " ('park', 4953),\n",
       " ('couple', 4347)]"
      ]
     },
     "execution_count": 11,
     "metadata": {},
     "output_type": "execute_result"
    }
   ],
   "source": [
    "count_neu = get_counter(df_neu[\"w_trans\"].values, n_cores=20)\n",
    "count_neu.most_common(10)"
   ]
  },
  {
   "cell_type": "code",
   "execution_count": 12,
   "id": "3ea095d5-2792-4cc8-bf00-2d18156172ee",
   "metadata": {},
   "outputs": [
    {
     "data": {
      "text/plain": [
       "[('man', 87632),\n",
       " ('woman', 44418),\n",
       " ('boy', 18731),\n",
       " ('dog', 17341),\n",
       " ('person', 15497),\n",
       " ('child', 11433),\n",
       " ('children', 8920),\n",
       " ('outdoors', 5967),\n",
       " ('bike', 5217),\n",
       " ('picture', 4748)]"
      ]
     },
     "execution_count": 12,
     "metadata": {},
     "output_type": "execute_result"
    }
   ],
   "source": [
    "count_ent = get_counter(df_ent[\"w_trans\"].values, n_cores=20)\n",
    "count_ent.most_common(10)"
   ]
  },
  {
   "cell_type": "code",
   "execution_count": null,
   "id": "7fa5b811-e7b4-4420-a3d4-cc8ada14aa90",
   "metadata": {},
   "outputs": [],
   "source": []
  }
 ],
 "metadata": {
  "kernelspec": {
   "display_name": "Python 3 (ipykernel)",
   "language": "python",
   "name": "python3"
  },
  "language_info": {
   "codemirror_mode": {
    "name": "ipython",
    "version": 3
   },
   "file_extension": ".py",
   "mimetype": "text/x-python",
   "name": "python",
   "nbconvert_exporter": "python",
   "pygments_lexer": "ipython3",
   "version": "3.7.12"
  }
 },
 "nbformat": 4,
 "nbformat_minor": 5
}
