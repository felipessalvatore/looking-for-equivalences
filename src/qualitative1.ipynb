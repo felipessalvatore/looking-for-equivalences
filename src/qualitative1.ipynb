{
 "cells": [
  {
   "cell_type": "markdown",
   "metadata": {},
   "source": [
    "# Qualitative Analysis 1"
   ]
  },
  {
   "cell_type": "code",
   "execution_count": 1,
   "metadata": {},
   "outputs": [],
   "source": [
    "import pandas as pd\n",
    "import os\n",
    "import re\n",
    "import numpy as np\n",
    "import matplotlib.pyplot as plt\n",
    "import seaborn as sns\n",
    "from tqdm import tqdm\n",
    "from IPython.display import display, HTML, Markdown\n",
    "from lr.text_processing.util import pre_process_nli_df\n",
    "from collections import Counter\n",
    "from lr.stats.h_testing import get_paired_t_statistic"
   ]
  },
  {
   "cell_type": "code",
   "execution_count": 7,
   "metadata": {},
   "outputs": [],
   "source": [
    "def get_ic(p,n,z=1.96):\n",
    "    e = z *np.sqrt((p*(1-p)/n))\n",
    "    l = p - e\n",
    "    r = p + e\n",
    "    print(\"[{:.1%},{:.1%}]\".format(l,r))"
   ]
  },
  {
   "cell_type": "code",
   "execution_count": 12,
   "metadata": {},
   "outputs": [
    {
     "name": "stdout",
     "output_type": "stream",
     "text": [
      "[76.6%,84.4%]\n"
     ]
    }
   ],
   "source": [
    "get_ic(0.805,400)"
   ]
  },
  {
   "cell_type": "markdown",
   "metadata": {},
   "source": [
    "## When $\\rho=0$ which test examples are affected by the transformation?"
   ]
  },
  {
   "cell_type": "code",
   "execution_count": 2,
   "metadata": {},
   "outputs": [],
   "source": [
    "m_name = \"roberta_large\"\n",
    "data = \"snli\"\n",
    "batch = 1\n",
    "path = \"raw_results/{}/{}/syn_p_h/batch{}/rho_0p00_results.csv\".format(data, m_name, batch)\n",
    "df = pd.read_csv(path)\n",
    "\n",
    "snli_trans = pd.read_csv(\"data/{}/test_p_h_syn_noun.csv\".format(data))\n",
    "sin_noun = pd.read_csv(\"data/{}/syn_noun.csv\".format(data))\n",
    "key2id = {k:i for k,i in zip(sin_noun.key,sin_noun.index)}\n",
    "f = lambda k: key2id[k]"
   ]
  },
  {
   "cell_type": "code",
   "execution_count": 3,
   "metadata": {},
   "outputs": [],
   "source": [
    "def filter_df_by_label(df, drop_label='-'):\n",
    "    \"\"\"\n",
    "    drop observations with label 'drop_label'\n",
    "    \"\"\"\n",
    "    return df.loc[df.label != drop_label]"
   ]
  },
  {
   "cell_type": "code",
   "execution_count": 4,
   "metadata": {},
   "outputs": [],
   "source": [
    "snli_ori = pd.read_csv(\"data/{}/test.csv\".format(data))\n",
    "snli_ori = filter_df_by_label(snli_ori)\n",
    "pre_process_nli_df(snli_ori)\n",
    "snli_ori = snli_ori.reset_index(drop=True)"
   ]
  },
  {
   "cell_type": "code",
   "execution_count": 5,
   "metadata": {},
   "outputs": [
    {
     "data": {
      "text/plain": [
       "(14.545315428857133, 0.03817182410423453, 9824, 0.2601141314038052)"
      ]
     },
     "execution_count": 5,
     "metadata": {},
     "output_type": "execute_result"
    }
   ],
   "source": [
    "t = get_paired_t_statistic(df)\n",
    "t"
   ]
  },
  {
   "cell_type": "code",
   "execution_count": 7,
   "metadata": {},
   "outputs": [
    {
     "name": "stdout",
     "output_type": "stream",
     "text": [
      "n = 200 | e_n = 9.6%\n",
      "0.7696078431372549 [ 0.6735755640052629 , 0.865640122269247 ]\n"
     ]
    },
    {
     "data": {
      "image/png": "[encoded data removed]",
      "text/plain": [
       "<Figure size 432x288 with 1 Axes>"
      ]
     },
     "metadata": {
      "needs_background": "light"
     },
     "output_type": "display_data"
    }
   ],
   "source": [
    "def e(alpha, n):\n",
    "    return np.sqrt(np.log(2/alpha) / (2*n))\n",
    "\n",
    "ids = df.loc[(df.A==1) & (df.B==0)]\n",
    "ids = ids.index.tolist()\n",
    "\n",
    "b = [44, 32, 80, 308,\n",
    "     331, 463, 574,\n",
    "     594, 677, 712, 877,\n",
    "     910, 946, 982, 983, 1233, 1246,\n",
    "     1270, 1321, 1353, 1389, 1402,\n",
    "     1500, 1703, 1766, 1920, 2015,\n",
    "     2209, 2240, 2375, 2380, 2446,\n",
    "     2477, 2683, 2695, 2738, 2911, 3034,\n",
    "     3092, 3279, 3332, 3388, 3470, 3555,\n",
    "     3559, 3650, 3764]\n",
    "\n",
    "b_to_print = [677, 982, 1312, 1353, 2015, 2240, 2446] \n",
    "g = [i for i in ids[:ids.index(3764)] if i not in b]\n",
    "g_to_print = [1613, 1827, 2058, 1784, 2412, 1613]\n",
    "\n",
    "end_ = ids[:ids.index(3764)]\n",
    "\n",
    "more = ids[ids.index(3764):]\n",
    "\n",
    "gn = len(g)\n",
    "bn = len(b)\n",
    "pct = gn/(gn+bn)\n",
    "\n",
    "n = gn+bn \n",
    "n = 200\n",
    "\n",
    "\n",
    "e95 = lambda n: e(0.05, n)\n",
    "x = np.array(range(1,n+1))\n",
    "\n",
    "plt.plot(x, e95(x),color=\"blue\");\n",
    "p = np.random.uniform(0.5,1)\n",
    "eps = e95(x)\n",
    "n = eps.argmin()\n",
    "e_id = eps[n]\n",
    "\n",
    "\n",
    "print(\"n = {} | e_n = {:.1%}\".format(x[n], e_id))\n",
    "\n",
    "\n",
    "print(pct,\"[\",pct-e_id,\",\", pct+e_id, \"]\")"
   ]
  },
  {
   "cell_type": "code",
   "execution_count": 9,
   "metadata": {},
   "outputs": [
    {
     "data": {
      "text/markdown": [
       "### When $\\rho=0.0$, the number of disrupted sentences (1 to 0) is 527 (5.4% of the test data)"
      ],
      "text/plain": [
       "<IPython.core.display.Markdown object>"
      ]
     },
     "metadata": {},
     "output_type": "display_data"
    },
    {
     "data": {
      "text/html": [
       "<table border=\"1\" class=\"dataframe\">\n",
       "  <thead>\n",
       "    <tr style=\"text-align: right;\">\n",
       "      <th></th>\n",
       "      <th>premise</th>\n",
       "      <th>hypothesis</th>\n",
       "      <th>label</th>\n",
       "      <th>premise_2</th>\n",
       "      <th>hypothesis_2</th>\n",
       "      <th>label_2</th>\n",
       "    </tr>\n",
       "  </thead>\n",
       "  <tbody>\n",
       "    <tr>\n",
       "      <th>3764</th>\n",
       "      <td>men play hockey</td>\n",
       "      <td>men play fair</td>\n",
       "      <td>neutral</td>\n",
       "      <td>men play field hockey</td>\n",
       "      <td>men play carnival</td>\n",
       "      <td>neutral</td>\n",
       "    </tr>\n",
       "    <tr>\n",
       "      <th>3825</th>\n",
       "      <td>a woman in a green shirt is working within a large amount of vegetation that is at different stages of maturity</td>\n",
       "      <td>she intends to pick the ripe vegetables and leave the unripened to ripen</td>\n",
       "      <td>neutral</td>\n",
       "      <td>a adult female in a green shirt is working within a large sum of flora that is at different stages of maturity</td>\n",
       "      <td>she intends to selection the mature vegetables and leave of absence the unripened to ripen</td>\n",
       "      <td>neutral</td>\n",
       "    </tr>\n",
       "    <tr>\n",
       "      <th>3838</th>\n",
       "      <td>a ballerina striking a pose in the studio</td>\n",
       "      <td>the ballerina is outdoors</td>\n",
       "      <td>contradiction</td>\n",
       "      <td>a danseuse striking a pose in the studio</td>\n",
       "      <td>the danseuse is open</td>\n",
       "      <td>contradiction</td>\n",
       "    </tr>\n",
       "  </tbody>\n",
       "</table>"
      ],
      "text/plain": [
       "<IPython.core.display.HTML object>"
      ]
     },
     "metadata": {},
     "output_type": "display_data"
    }
   ],
   "source": [
    "ids = df.loc[(df.A==1) & (df.B==0)]\n",
    "ids = ids.index.tolist()\n",
    "n = len(ids)\n",
    "pct = n/df.shape[0]\n",
    "display(Markdown(r\"### When $\\rho=0.0$, the number of disrupted sentences (1 to 0) is {} ({:.1%} of the test data)\".format(n,pct)))\n",
    "comb = pd.concat([snli_ori, snli_trans.add_suffix(\"_2\")],1)\n",
    "comb = comb.loc[more] \n",
    "display(HTML(comb.head(3).to_html()))"
   ]
  },
  {
   "cell_type": "code",
   "execution_count": 12,
   "metadata": {},
   "outputs": [
    {
     "name": "stdout",
     "output_type": "stream",
     "text": [
      "[3, 31, 46, 60, 113, 123, 140, 323, 379, 391, 393, 395, 441, 499, 555, 556, 557, 630, 705, 722, 727, 756, 768, 776, 820, 821, 822, 849, 884, 916, 938, 953, 988, 995, 1050, 1057, 1062, 1067, 1088, 1090, 1093, 1141, 1162, 1173, 1206, 1228, 1296, 1368, 1377, 1383, 1386, 1431, 1472, 1480, 1505, 1516, 1517, 1525, 1534, 1567, 1609, 1613, 1623, 1663, 1683, 1727, 1771, 1784, 1788, 1790, 1796, 1806, 1820, 1827, 1859, 1891, 1894, 1909, 1934, 1945, 1950, 1988, 2025, 2040, 2058, 2065, 2080, 2097, 2123, 2162, 2167, 2180, 2195, 2242, 2271, 2288, 2313, 2333, 2365, 2366, 2407, 2412, 2425, 2435, 2447, 2448, 2471, 2490, 2497, 2516, 2558, 2569, 2571, 2591, 2668, 2700, 2765, 2766, 2791, 2809, 2825, 2886, 2929, 2948, 2962, 2998, 3016, 3056, 3074, 3078, 3175, 3176, 3195, 3210, 3215, 3234, 3239, 3326, 3367, 3369, 3381, 3413, 3476, 3478, 3491, 3513, 3554, 3578, 3579, 3602, 3635, 3692, 3703, 3705, 3709, 3728, 3737]\n"
     ]
    }
   ],
   "source": [
    "print(g)"
   ]
  },
  {
   "cell_type": "code",
   "execution_count": 13,
   "metadata": {},
   "outputs": [
    {
     "name": "stdout",
     "output_type": "stream",
     "text": [
      "[44, 32, 80, 308, 331, 463, 574, 594, 677, 712, 877, 910, 946, 982, 983, 1233, 1246, 1270, 1321, 1353, 1389, 1402, 1500, 1703, 1766, 1920, 2015, 2209, 2240, 2375, 2380, 2446, 2477, 2683, 2695, 2738, 2911, 3034, 3092, 3279, 3332, 3388, 3470, 3555, 3559, 3650, 3764]\n"
     ]
    }
   ],
   "source": [
    "print(b)"
   ]
  },
  {
   "cell_type": "markdown",
   "metadata": {},
   "source": [
    "## What are the most commom transformations that appear on the error pairs?"
   ]
  },
  {
   "cell_type": "code",
   "execution_count": 14,
   "metadata": {},
   "outputs": [
    {
     "data": {
      "text/html": [
       "<div>\n",
       "<style scoped>\n",
       "    .dataframe tbody tr th:only-of-type {\n",
       "        vertical-align: middle;\n",
       "    }\n",
       "\n",
       "    .dataframe tbody tr th {\n",
       "        vertical-align: top;\n",
       "    }\n",
       "\n",
       "    .dataframe thead th {\n",
       "        text-align: right;\n",
       "    }\n",
       "</style>\n",
       "<table border=\"1\" class=\"dataframe\">\n",
       "  <thead>\n",
       "    <tr style=\"text-align: right;\">\n",
       "      <th></th>\n",
       "      <th>key</th>\n",
       "      <th>value</th>\n",
       "      <th>freq</th>\n",
       "    </tr>\n",
       "  </thead>\n",
       "  <tbody>\n",
       "    <tr>\n",
       "      <th>3353</th>\n",
       "      <td>man</td>\n",
       "      <td>adult male</td>\n",
       "      <td>10.2%</td>\n",
       "    </tr>\n",
       "    <tr>\n",
       "      <th>6169</th>\n",
       "      <td>woman</td>\n",
       "      <td>adult female</td>\n",
       "      <td>5.6%</td>\n",
       "    </tr>\n",
       "    <tr>\n",
       "      <th>637</th>\n",
       "      <td>boy</td>\n",
       "      <td>male child</td>\n",
       "      <td>3.0%</td>\n",
       "    </tr>\n",
       "    <tr>\n",
       "      <th>503</th>\n",
       "      <td>bicycle</td>\n",
       "      <td>bike</td>\n",
       "      <td>2.0%</td>\n",
       "    </tr>\n",
       "    <tr>\n",
       "      <th>4022</th>\n",
       "      <td>person</td>\n",
       "      <td>individual</td>\n",
       "      <td>1.7%</td>\n",
       "    </tr>\n",
       "    <tr>\n",
       "      <th>3814</th>\n",
       "      <td>outdoors</td>\n",
       "      <td>open</td>\n",
       "      <td>1.3%</td>\n",
       "    </tr>\n",
       "    <tr>\n",
       "      <th>511</th>\n",
       "      <td>bike</td>\n",
       "      <td>motorcycle</td>\n",
       "      <td>1.3%</td>\n",
       "    </tr>\n",
       "    <tr>\n",
       "      <th>5121</th>\n",
       "      <td>snow</td>\n",
       "      <td>snowfall</td>\n",
       "      <td>1.3%</td>\n",
       "    </tr>\n",
       "    <tr>\n",
       "      <th>4663</th>\n",
       "      <td>road</td>\n",
       "      <td>route</td>\n",
       "      <td>1.1%</td>\n",
       "    </tr>\n",
       "    <tr>\n",
       "      <th>2825</th>\n",
       "      <td>human</td>\n",
       "      <td>man</td>\n",
       "      <td>1.0%</td>\n",
       "    </tr>\n",
       "  </tbody>\n",
       "</table>\n",
       "</div>"
      ],
      "text/plain": [
       "           key         value   freq\n",
       "3353       man    adult male  10.2%\n",
       "6169     woman  adult female   5.6%\n",
       "637        boy    male child   3.0%\n",
       "503    bicycle          bike   2.0%\n",
       "4022    person    individual   1.7%\n",
       "3814  outdoors          open   1.3%\n",
       "511       bike    motorcycle   1.3%\n",
       "5121      snow      snowfall   1.3%\n",
       "4663      road         route   1.1%\n",
       "2825     human           man   1.0%"
      ]
     },
     "execution_count": 14,
     "metadata": {},
     "output_type": "execute_result"
    }
   ],
   "source": [
    "spaces = re.compile(' +')\n",
    "results = []\n",
    "\n",
    "ids = comb.index.tolist()\n",
    "for id_ in ids:\n",
    "    s = comb.loc[id_].premise + \" \" + comb.loc[id_].hypothesis\n",
    "    st = comb.loc[id_].premise_2 + \" \" + comb.loc[id_].hypothesis_2\n",
    "    s = spaces.sub(\" \",s)\n",
    "    st = spaces.sub(\" \",st)\n",
    "    s = s.strip()\n",
    "    st = st.strip()\n",
    "    s = set(s.split(\" \"))\n",
    "    st = set(st.split(\" \"))\n",
    "    diff = list(s - st)\n",
    "    try:\n",
    "        diff = list(map(f, diff))\n",
    "        results += diff\n",
    "    except KeyError:\n",
    "        print(id_)\n",
    "        print(s)\n",
    "        print(st)\n",
    "    \n",
    "    \n",
    "    \n",
    "results_c = Counter(results)\n",
    "dict_id = [i[0] for i in results_c.most_common(10)]\n",
    "sin_noun.loc[:, \"freq\"] = [results_c[i]/len(results) for i in sin_noun.index]\n",
    "sin_noun = sin_noun.sort_values(\"freq\", ascending=False)\n",
    "sin_noun.loc[:, \"freq\"] = sin_noun.freq.map(lambda x: \"{:.1%}\".format(x))\n",
    "sin_noun.head(10)"
   ]
  },
  {
   "cell_type": "code",
   "execution_count": null,
   "metadata": {},
   "outputs": [],
   "source": []
  },
  {
   "cell_type": "code",
   "execution_count": null,
   "metadata": {},
   "outputs": [],
   "source": []
  }
 ],
 "metadata": {
  "kernelspec": {
   "display_name": "Python 3 (ipykernel)",
   "language": "python",
   "name": "python3"
  },
  "language_info": {
   "codemirror_mode": {
    "name": "ipython",
    "version": 3
   },
   "file_extension": ".py",
   "mimetype": "text/x-python",
   "name": "python",
   "nbconvert_exporter": "python",
   "pygments_lexer": "ipython3",
   "version": "3.7.6"
  }
 },
 "nbformat": 4,
 "nbformat_minor": 4
}
