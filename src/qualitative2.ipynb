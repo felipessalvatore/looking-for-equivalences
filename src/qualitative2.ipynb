{
 "cells": [
  {
   "cell_type": "markdown",
   "metadata": {},
   "source": [
    "# Qualitative Analysis 1"
   ]
  },
  {
   "cell_type": "code",
   "execution_count": 1,
   "metadata": {},
   "outputs": [],
   "source": [
    "import pandas as pd\n",
    "import os\n",
    "import re\n",
    "import numpy as np\n",
    "import matplotlib.pyplot as plt\n",
    "import seaborn as sns\n",
    "from tqdm import tqdm\n",
    "from IPython.display import display, HTML, Markdown\n",
    "from lr.text_processing.util import pre_process_nli_df\n",
    "from collections import Counter\n",
    "from lr.stats.h_testing import get_paired_t_statistic"
   ]
  },
  {
   "cell_type": "markdown",
   "metadata": {},
   "source": [
    "## When $\\rho=1$ which test examples are affected by the transformation?"
   ]
  },
  {
   "cell_type": "code",
   "execution_count": 2,
   "metadata": {},
   "outputs": [],
   "source": [
    "m_name = \"roberta_large\"\n",
    "data = \"snli\"\n",
    "batch = 1\n",
    "path = \"raw_results/{}/{}/syn_p_h/batch{}/rho_1p00_results.csv\".format(data, m_name, batch)\n",
    "df = pd.read_csv(path)\n",
    "\n",
    "snli_trans = pd.read_csv(\"data/{}/test_p_h_syn_noun.csv\".format(data))\n",
    "sin_noun = pd.read_csv(\"data/{}/syn_noun.csv\".format(data))\n",
    "key2id = {k:i for k,i in zip(sin_noun.key,sin_noun.index)}\n",
    "f = lambda k: key2id[k]"
   ]
  },
  {
   "cell_type": "code",
   "execution_count": 3,
   "metadata": {},
   "outputs": [],
   "source": [
    "def filter_df_by_label(df, drop_label='-'):\n",
    "    \"\"\"\n",
    "    drop observations with label 'drop_label'\n",
    "    \"\"\"\n",
    "    return df.loc[df.label != drop_label]"
   ]
  },
  {
   "cell_type": "code",
   "execution_count": 4,
   "metadata": {},
   "outputs": [],
   "source": [
    "snli_ori = pd.read_csv(\"data/{}/test.csv\".format(data))\n",
    "snli_ori = filter_df_by_label(snli_ori)\n",
    "pre_process_nli_df(snli_ori)\n",
    "snli_ori = snli_ori.reset_index(drop=True)"
   ]
  },
  {
   "cell_type": "code",
   "execution_count": 5,
   "metadata": {},
   "outputs": [
    {
     "data": {
      "text/plain": [
       "(5.014434202787449, 0.010789902280130293, 9824, 0.21327490211456535)"
      ]
     },
     "execution_count": 5,
     "metadata": {},
     "output_type": "execute_result"
    }
   ],
   "source": [
    "t = get_paired_t_statistic(df)\n",
    "t"
   ]
  },
  {
   "cell_type": "code",
   "execution_count": 6,
   "metadata": {},
   "outputs": [
    {
     "name": "stdout",
     "output_type": "stream",
     "text": [
      "n = 171 | e_n = 10.4%\n",
      "0.8830409356725146 [ 0.7791843170377292 , 0.9868975543073001 ]\n"
     ]
    },
    {
     "data": {
      "image/png": "[encoded data removed]",
      "text/plain": [
       "<Figure size 432x288 with 1 Axes>"
      ]
     },
     "metadata": {
      "needs_background": "light"
     },
     "output_type": "display_data"
    }
   ],
   "source": [
    "def e(alpha, n):\n",
    "    return np.sqrt(np.log(2/alpha) / (2*n))\n",
    "\n",
    "ids = df.loc[(df.A==0) & (df.B==1)]\n",
    "ids = ids.index.tolist()\n",
    "\n",
    "b = [701, 1433, 2820, 3114, 3955,\n",
    "     3970, 4831, 5187,5285, 5664,\n",
    "     5752, 5811, 6428, 6771, 7424,\n",
    "    7965, 8151, 8310, 8646, 9786]\n",
    "select = b[-1]\n",
    "\n",
    "b_to_print = [5285] \n",
    "g = [i for i in ids[:ids.index(select)] if i not in b]\n",
    "g_to_print = []\n",
    "\n",
    "\n",
    "more = ids[ids.index(select):]\n",
    "\n",
    "gn = len(g)\n",
    "bn = len(b)\n",
    "pct = gn/(gn+bn)\n",
    "\n",
    "n = gn+bn \n",
    "# n = 200\n",
    "\n",
    "\n",
    "e95 = lambda n: e(0.05, n)\n",
    "x = np.array(range(1,n+1))\n",
    "\n",
    "plt.plot(x, e95(x),color=\"blue\");\n",
    "p = np.random.uniform(0.5,1)\n",
    "eps = e95(x)\n",
    "n = eps.argmin()\n",
    "e_id = eps[n]\n",
    "\n",
    "\n",
    "print(\"n = {} | e_n = {:.1%}\".format(x[n], e_id))\n",
    "\n",
    "\n",
    "print(pct,\"[\",pct-e_id,\",\", pct+e_id, \"]\")"
   ]
  },
  {
   "cell_type": "code",
   "execution_count": 7,
   "metadata": {},
   "outputs": [
    {
     "data": {
      "text/markdown": [
       "### When $\\rho=1.0$, the number of disrupted sentences (0 to 1) is 171 (1.7% of the test data)"
      ],
      "text/plain": [
       "<IPython.core.display.Markdown object>"
      ]
     },
     "metadata": {},
     "output_type": "display_data"
    },
    {
     "data": {
      "text/html": [
       "<table border=\"1\" class=\"dataframe\">\n",
       "  <thead>\n",
       "    <tr style=\"text-align: right;\">\n",
       "      <th></th>\n",
       "      <th>premise</th>\n",
       "      <th>hypothesis</th>\n",
       "      <th>label</th>\n",
       "      <th>premise_2</th>\n",
       "      <th>hypothesis_2</th>\n",
       "      <th>label_2</th>\n",
       "    </tr>\n",
       "  </thead>\n",
       "  <tbody>\n",
       "    <tr>\n",
       "      <th>9786</th>\n",
       "      <td>a little boy is getting is birthday cake and is blowing out the candles</td>\n",
       "      <td>a child at a party</td>\n",
       "      <td>neutral</td>\n",
       "      <td>a little male child is getting is birthday cake and is blowing out the candles</td>\n",
       "      <td>a kid at a political party</td>\n",
       "      <td>neutral</td>\n",
       "    </tr>\n",
       "  </tbody>\n",
       "</table>"
      ],
      "text/plain": [
       "<IPython.core.display.HTML object>"
      ]
     },
     "metadata": {},
     "output_type": "display_data"
    }
   ],
   "source": [
    "ids = df.loc[(df.A==0) & (df.B==1)]\n",
    "ids = ids.index.tolist()\n",
    "n = len(ids)\n",
    "pct = n/df.shape[0]\n",
    "display(Markdown(r\"### When $\\rho=1.0$, the number of disrupted sentences (0 to 1) is {} ({:.1%} of the test data)\".format(n,pct)))\n",
    "comb = pd.concat([snli_ori, snli_trans.add_suffix(\"_2\")],1)\n",
    "comb = comb.loc[more] \n",
    "display(HTML(comb.head(n).to_html()))\n",
    "# display(HTML(comb.head(2).to_html()))"
   ]
  },
  {
   "cell_type": "markdown",
   "metadata": {},
   "source": [
    "## What are the most commom transformations that appear on the error pairs?"
   ]
  },
  {
   "cell_type": "code",
   "execution_count": 8,
   "metadata": {},
   "outputs": [
    {
     "data": {
      "text/html": [
       "<div>\n",
       "<style scoped>\n",
       "    .dataframe tbody tr th:only-of-type {\n",
       "        vertical-align: middle;\n",
       "    }\n",
       "\n",
       "    .dataframe tbody tr th {\n",
       "        vertical-align: top;\n",
       "    }\n",
       "\n",
       "    .dataframe thead th {\n",
       "        text-align: right;\n",
       "    }\n",
       "</style>\n",
       "<table border=\"1\" class=\"dataframe\">\n",
       "  <thead>\n",
       "    <tr style=\"text-align: right;\">\n",
       "      <th></th>\n",
       "      <th>key</th>\n",
       "      <th>value</th>\n",
       "      <th>freq</th>\n",
       "    </tr>\n",
       "  </thead>\n",
       "  <tbody>\n",
       "    <tr>\n",
       "      <th>637</th>\n",
       "      <td>boy</td>\n",
       "      <td>male child</td>\n",
       "      <td>100.0%</td>\n",
       "    </tr>\n",
       "    <tr>\n",
       "      <th>0</th>\n",
       "      <td>11th</td>\n",
       "      <td>eleventh</td>\n",
       "      <td>0.0%</td>\n",
       "    </tr>\n",
       "    <tr>\n",
       "      <th>4158</th>\n",
       "      <td>plug</td>\n",
       "      <td>stopper</td>\n",
       "      <td>0.0%</td>\n",
       "    </tr>\n",
       "    <tr>\n",
       "      <th>4167</th>\n",
       "      <td>pod</td>\n",
       "      <td>cod</td>\n",
       "      <td>0.0%</td>\n",
       "    </tr>\n",
       "    <tr>\n",
       "      <th>4166</th>\n",
       "      <td>pm</td>\n",
       "      <td>autopsy</td>\n",
       "      <td>0.0%</td>\n",
       "    </tr>\n",
       "    <tr>\n",
       "      <th>4165</th>\n",
       "      <td>plywood</td>\n",
       "      <td>plyboard</td>\n",
       "      <td>0.0%</td>\n",
       "    </tr>\n",
       "    <tr>\n",
       "      <th>4164</th>\n",
       "      <td>plutonium</td>\n",
       "      <td>pu</td>\n",
       "      <td>0.0%</td>\n",
       "    </tr>\n",
       "    <tr>\n",
       "      <th>4163</th>\n",
       "      <td>plunges</td>\n",
       "      <td>dip</td>\n",
       "      <td>0.0%</td>\n",
       "    </tr>\n",
       "    <tr>\n",
       "      <th>4162</th>\n",
       "      <td>plunger</td>\n",
       "      <td>speculator</td>\n",
       "      <td>0.0%</td>\n",
       "    </tr>\n",
       "    <tr>\n",
       "      <th>4161</th>\n",
       "      <td>plunge</td>\n",
       "      <td>dip</td>\n",
       "      <td>0.0%</td>\n",
       "    </tr>\n",
       "  </tbody>\n",
       "</table>\n",
       "</div>"
      ],
      "text/plain": [
       "            key       value    freq\n",
       "637         boy  male child  100.0%\n",
       "0          11th    eleventh    0.0%\n",
       "4158       plug     stopper    0.0%\n",
       "4167        pod         cod    0.0%\n",
       "4166         pm     autopsy    0.0%\n",
       "4165    plywood    plyboard    0.0%\n",
       "4164  plutonium          pu    0.0%\n",
       "4163    plunges         dip    0.0%\n",
       "4162    plunger  speculator    0.0%\n",
       "4161     plunge         dip    0.0%"
      ]
     },
     "execution_count": 8,
     "metadata": {},
     "output_type": "execute_result"
    }
   ],
   "source": [
    "spaces = re.compile(' +')\n",
    "results = []\n",
    "\n",
    "ids = comb.index.tolist()\n",
    "for id_ in ids:\n",
    "    s = comb.loc[id_].premise + \" \" + comb.loc[id_].hypothesis\n",
    "    st = comb.loc[id_].premise_2 + \" \" + comb.loc[id_].hypothesis_2\n",
    "    s = spaces.sub(\" \",s)\n",
    "    st = spaces.sub(\" \",st)\n",
    "    s = s.strip()\n",
    "    st = st.strip()\n",
    "    s = set(s.split(\" \"))\n",
    "    st = set(st.split(\" \"))\n",
    "    diff = list(s - st)\n",
    "    try:\n",
    "        diff = list(map(f, diff))\n",
    "        results += diff\n",
    "    except KeyError:\n",
    "        print(id_)\n",
    "        print(s)\n",
    "        print(st)\n",
    "    \n",
    "    \n",
    "    \n",
    "results_c = Counter(results)\n",
    "dict_id = [i[0] for i in results_c.most_common(10)]\n",
    "sin_noun.loc[:, \"freq\"] = [results_c[i]/len(results) for i in sin_noun.index]\n",
    "sin_noun = sin_noun.sort_values(\"freq\", ascending=False)\n",
    "sin_noun.loc[:, \"freq\"] = sin_noun.freq.map(lambda x: \"{:.1%}\".format(x))\n",
    "sin_noun.head(10)"
   ]
  },
  {
   "cell_type": "code",
   "execution_count": null,
   "metadata": {},
   "outputs": [],
   "source": []
  },
  {
   "cell_type": "code",
   "execution_count": null,
   "metadata": {},
   "outputs": [],
   "source": []
  }
 ],
 "metadata": {
  "kernelspec": {
   "display_name": "Python 3 (ipykernel)",
   "language": "python",
   "name": "python3"
  },
  "language_info": {
   "codemirror_mode": {
    "name": "ipython",
    "version": 3
   },
   "file_extension": ".py",
   "mimetype": "text/x-python",
   "name": "python",
   "nbconvert_exporter": "python",
   "pygments_lexer": "ipython3",
   "version": "3.7.6"
  }
 },
 "nbformat": 4,
 "nbformat_minor": 4
}
